{
  "cells": [
    {
      "cell_type": "code",
      "execution_count": 64,
      "metadata": {},
      "outputs": [
        {
          "name": "stdout",
          "output_type": "stream",
          "text": [
            "|--- A5 <= 2.50\n",
            "|   |--- A1 <= 2.50\n",
            "|   |   |--- class: 0\n",
            "|   |--- A1 >  2.50\n",
            "|   |   |--- A3 <= 2.50\n",
            "|   |   |   |--- class: 0\n",
            "|   |   |--- A3 >  2.50\n",
            "|   |   |   |--- class: 1\n",
            "|--- A5 >  2.50\n",
            "|   |--- class: 1\n",
            "\n",
            "0\n"
          ]
        }
      ],
      "source": [
        "# import library\n",
        "import pandas as pd\n",
        "from sklearn.model_selection import train_test_split\n",
        "from sklearn.tree import DecisionTreeClassifier, export_graphviz\n",
        "import graphviz\n",
        "\n",
        "# membaca dataset\n",
        "data = pd.read_csv('datsetfix2.csv')\n",
        "\n",
        "# Mengubah nilai-nilai pada kolom A1 sampai A5 ke dalam bentuk numerik\n",
        "data = data.replace({'A1': {'Baik': 4, 'Cukup Baik': 3, 'Kurang Baik': 2, 'Tidak Baik': 1},\n",
        "                     'A2': {'Baik': 4, 'Cukup Baik': 3, 'Kurang Baik': 2, 'Tidak Baik': 1},\n",
        "                     'A3': {'Baik': 4, 'Cukup Baik': 3, 'Kurang Baik': 2, 'Tidak Baik': 1},\n",
        "                     'A4': {'Baik': 4, 'Cukup Baik': 3, 'Kurang Baik': 2, 'Tidak Baik': 1},\n",
        "                     'A5': {'Baik': 4, 'Cukup Baik': 3, 'Kurang Baik': 2, 'Tidak Baik': 1}})\n",
        "\n",
        "# Mengubah kolom target ke dalam bentuk numerik\n",
        "data['Hasil'] = data['Hasil'].map({'Puas': 1, 'Tidak Puas': 0})\n",
        "\n",
        "\n",
        "# memisahkan atribut dan label\n",
        "X = data.drop(['No', 'Nama', 'Hasil'], axis=1)\n",
        "y = data['Hasil']\n",
        "\n",
        "# membagi data menjadi training dan testing\n",
        "X_train, X_test, y_train, y_test = train_test_split(X, y, test_size=0.2, random_state=465)\n",
        "\n",
        "# membuat model dengan algoritma C5.0\n",
        "model = DecisionTreeClassifier(criterion='gini', max_depth=3)\n",
        "model.fit(X_train, y_train)\n",
        "mymodel = model.fit(X_train, y_train)\n",
        "\n",
        "# membuat file dot dari pohon keputusaj\n",
        "dot_data = export_graphviz(model, out_file=None, feature_names=X.columns, class_names=['0', '1'], filled=True, rounded=True, special_characters=True)\n",
        "graph = graphviz.Source(dot_data)\n",
        "\n",
        "# menampilkan pohon keputusan\n",
        "graph.view()\n",
        "\n",
        "from sklearn.tree import export_text\n",
        "\n",
        "# Mendapatkan aturan dari model Decision Tree\n",
        "rules_text = export_text(model, feature_names=list(X.columns))\n",
        "print(rules_text)\n",
        "\n",
        "\n",
        "def predict_decision(input_data):\n",
        "    A5 = input_data['A5']\n",
        "    A1 = input_data['A1']\n",
        "    A2 = input_data['A2']\n",
        "    A3 = input_data['A3']\n",
        "\n",
        "    if A5 <= 2.50:\n",
        "        if A1 <= 2.50:\n",
        "            prediction = 0\n",
        "        else:\n",
        "            if A1 <= 2.50:\n",
        "                if A3 <= 3.50:\n",
        "                    prediction = 0\n",
        "                else:\n",
        "                    prediction = 1\n",
        "            else:\n",
        "                prediction = 1\n",
        "    else:\n",
        "        prediction = 1\n",
        "\n",
        "    return prediction\n",
        "\n",
        "# Contoh penggunaan\n",
        "input_data = {'A5': 1, 'A1': 2, 'A2': 1, 'A3': 1}\n",
        "prediction = predict_decision(input_data)\n",
        "print(prediction)\n"
      ]
    },
    {
      "cell_type": "code",
      "execution_count": 65,
      "metadata": {},
      "outputs": [
        {
          "name": "stdout",
          "output_type": "stream",
          "text": [
            "Confusion Matrix:\n",
            "[[ 2  0]\n",
            " [ 1 17]]\n"
          ]
        }
      ],
      "source": [
        "from sklearn.metrics import confusion_matrix\n",
        "\n",
        "# melakukan prediksi pada data pengujian\n",
        "y_pred = model.predict(X_test)\n",
        "\n",
        "# menghitung matriks konfusi\n",
        "cm = confusion_matrix(y_test, y_pred)\n",
        "print(\"Confusion Matrix:\")\n",
        "print(cm)"
      ]
    },
    {
      "cell_type": "code",
      "execution_count": 66,
      "metadata": {},
      "outputs": [
        {
          "name": "stdout",
          "output_type": "stream",
          "text": [
            "Akurasi: 0.95\n"
          ]
        }
      ],
      "source": [
        "# menghitung akurasi\n",
        "accuracy = (cm[0, 0] + cm[1, 1]) / cm.sum()\n",
        "print(\"Akurasi:\", accuracy)"
      ]
    },
    {
      "cell_type": "code",
      "execution_count": 67,
      "metadata": {},
      "outputs": [
        {
          "data": {
            "text/plain": [
              "array([1.        , 1.        , 1.        , 1.        , 0.85714286,\n",
              "       0.85714286, 1.        , 0.85714286, 0.83333333, 1.        ,\n",
              "       0.83333333, 1.        ])"
            ]
          },
          "execution_count": 67,
          "metadata": {},
          "output_type": "execute_result"
        }
      ],
      "source": [
        "from sklearn.model_selection import cross_val_score\n",
        "\n",
        "#menghitung k-fold cross validaton\n",
        "score = cross_val_score(mymodel,X_train,y_train,cv = 12)\n",
        "score"
      ]
    },
    {
      "cell_type": "code",
      "execution_count": 68,
      "metadata": {},
      "outputs": [
        {
          "name": "stdout",
          "output_type": "stream",
          "text": [
            "0.9365079365079366\n"
          ]
        }
      ],
      "source": [
        "import numpy as np\n",
        "\n",
        "#menghitung rata-rata k12-fold cross validation\n",
        "print(np.mean(score))"
      ]
    },
    {
      "cell_type": "code",
      "execution_count": 69,
      "metadata": {},
      "outputs": [],
      "source": [
        "import pickle"
      ]
    },
    {
      "cell_type": "code",
      "execution_count": 70,
      "metadata": {},
      "outputs": [],
      "source": [
        "filename = 'Kepuasan_walmur.sav'\n",
        "pickle.dump(model, open(filename, 'wb'))"
      ]
    }
  ],
  "metadata": {
    "colab": {
      "provenance": []
    },
    "kernelspec": {
      "display_name": "Python 3",
      "name": "python3"
    },
    "language_info": {
      "codemirror_mode": {
        "name": "ipython",
        "version": 3
      },
      "file_extension": ".py",
      "mimetype": "text/x-python",
      "name": "python",
      "nbconvert_exporter": "python",
      "pygments_lexer": "ipython3",
      "version": "3.10.2"
    }
  },
  "nbformat": 4,
  "nbformat_minor": 0
}
